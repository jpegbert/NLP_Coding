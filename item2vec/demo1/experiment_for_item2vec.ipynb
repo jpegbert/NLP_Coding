{
 "cells": [
  {
   "cell_type": "code",
   "execution_count": 1,
   "metadata": {
    "collapsed": true
   },
   "outputs": [],
   "source": [
    "import joblib\n",
    "import pandas as pd\n",
    "import numpy as np"
   ]
  },
  {
   "cell_type": "code",
   "execution_count": 17,
   "metadata": {
    "collapsed": true
   },
   "outputs": [],
   "source": [
    "processor = joblib.load('./result/word/processor.pkl')\n",
    "word_embeds = joblib.load('./result/word/word_embeds.pkl')"
   ]
  },
  {
   "cell_type": "code",
   "execution_count": 23,
   "metadata": {},
   "outputs": [],
   "source": [
    "word_metadata = pd.read_csv('./result/word/word_metadata.tsv', sep='\\t')\n",
    "item_metadata = pd.read_csv('./result/item/item_metadata.tsv', sep='\\t')"
   ]
  },
  {
   "cell_type": "code",
   "execution_count": 11,
   "metadata": {
    "collapsed": true
   },
   "outputs": [],
   "source": [
    "factors = processor.get_factors(word_embeds)"
   ]
  },
  {
   "cell_type": "code",
   "execution_count": 12,
   "metadata": {},
   "outputs": [
    {
     "data": {
      "text/plain": [
       "((7579, 30), (100000, 30))"
      ]
     },
     "execution_count": 12,
     "metadata": {},
     "output_type": "execute_result"
    }
   ],
   "source": [
    "word_embeds.shape, factors.shape"
   ]
  },
  {
   "cell_type": "code",
   "execution_count": 22,
   "metadata": {},
   "outputs": [
    {
     "name": "stdout",
     "output_type": "stream",
     "text": [
      "烏克麗麗 populele智能尤克里里23寸小吉他初學者學生兒童成人男女烏克麗麗tw生活館 0.9999999999999999\n",
      "兒童迷你電子琴寶寶早教益智小鋼琴男女孩電動兒童樂器小樂器生日禮物 0.9237699325286032\n",
      "兒童電子琴嬰幼兒寶寶音樂拍拍鼓0-1-3歲 小男女孩鋼琴玩具TW臺北之家 0.92029531219149\n",
      "伊諾鋼琴指力器吉他手指訓練器小提琴練習器古箏握力器兒童練指器 0.9164604986174599\n",
      "蹦蹦床家用兒童室內寶寶彈跳床小孩成人帶護網家庭玩具跳跳床TW 0.9163774074323084\n",
      "兒童扭扭車帶音樂靜音輪1-3-6歲寶寶滑行車鈕鈕車溜溜車搖擺玩具TW 0.916208970844132\n",
      "臺球桌兒童家用 親子迷你美式黑8標準臺球桌花式臺球玩具禮物 0.9128185147719776\n",
      "彈跳床  大型體育蹦床體操訓練蹦級網面成人特技彈跳床游樂園設備廠家兒童tw 0.9108257990085457\n",
      "嬰兒床護欄床邊.m大床寶寶床圍欄床欄防掉摔兒童擋板通用EF4799 0.9095763879384616\n",
      "甯鼎蹦蹦床家用兒童室內寶寶彈跳床小孩成人帶護網家庭玩具跳跳床 0.9067224216114443\n",
      "----------\n"
     ]
    }
   ],
   "source": [
    "processor.print_similar(word_embeds, 38000)"
   ]
  },
  {
   "cell_type": "code",
   "execution_count": 6,
   "metadata": {},
   "outputs": [
    {
     "data": {
      "text/plain": [
       "name     范特西NIKE水壺 運動水壺 小容量 無吸管 釦環 輕便型 黑色 # AC3448-048 ...\n",
       "cut             運動水壺::::水壺::::nike::::容量::::黑色::::運動::::一個\n",
       "class                                                    3\n",
       "label                                                    0\n",
       "Name: 100, dtype: object"
      ]
     },
     "execution_count": 6,
     "metadata": {},
     "output_type": "execute_result"
    }
   ],
   "source": [
    "item_metadata.iloc[100]"
   ]
  },
  {
   "cell_type": "code",
   "execution_count": 7,
   "metadata": {},
   "outputs": [
    {
     "name": "stdout",
     "output_type": "stream",
     "text": [
      "歐美 0.99999994\n",
      "拉鏈 0.9974919\n",
      "包包 0.9958195\n",
      "大容量 0.99449193\n",
      "恤女 0.99421734\n",
      "襯衫 0.9937927\n",
      "容量 0.9929663\n",
      "衫女 0.9928526\n",
      "女士 0.9926124\n",
      "中長款 0.99258715\n",
      "----------\n"
     ]
    }
   ],
   "source": [
    "processor.print_similar(word_embeds, 100, is_item=False)"
   ]
  },
  {
   "cell_type": "code",
   "execution_count": 9,
   "metadata": {},
   "outputs": [
    {
     "data": {
      "text/plain": [
       "word    歐美\n",
       "Name: 100, dtype: object"
      ]
     },
     "execution_count": 9,
     "metadata": {},
     "output_type": "execute_result"
    }
   ],
   "source": [
    "word_metadata.iloc[100]"
   ]
  },
  {
   "cell_type": "code",
   "execution_count": 15,
   "metadata": {},
   "outputs": [
    {
     "data": {
      "text/plain": [
       "7059"
      ]
     },
     "execution_count": 15,
     "metadata": {},
     "output_type": "execute_result"
    }
   ],
   "source": [
    "processor.word_to_ix['烏克麗麗']"
   ]
  },
  {
   "cell_type": "code",
   "execution_count": 19,
   "metadata": {},
   "outputs": [
    {
     "name": "stdout",
     "output_type": "stream",
     "text": [
      "烏克麗麗 1.0000001\n",
      "掌上 0.8659578\n",
      "可攜式 0.8382493\n",
      "電熨斗 0.83253515\n",
      "高精度 0.8208307\n",
      "隔離 0.81850183\n",
      "四分 0.81588537\n",
      "投影機 0.8153719\n",
      "顯微鏡 0.8145243\n",
      "便攜式 0.81155264\n",
      "----------\n"
     ]
    }
   ],
   "source": [
    "processor.print_similar(word_embeds, 7059, is_item=False)"
   ]
  }
 ],
 "metadata": {
  "kernelspec": {
   "display_name": "Python 3",
   "language": "python",
   "name": "python3"
  },
  "language_info": {
   "codemirror_mode": {
    "name": "ipython",
    "version": 3
   },
   "file_extension": ".py",
   "mimetype": "text/x-python",
   "name": "python",
   "nbconvert_exporter": "python",
   "pygments_lexer": "ipython3",
   "version": "3.6.3"
  }
 },
 "nbformat": 4,
 "nbformat_minor": 2
}
